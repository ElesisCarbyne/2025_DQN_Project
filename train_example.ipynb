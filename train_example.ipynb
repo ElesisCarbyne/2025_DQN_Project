{
 "cells": [
  {
   "cell_type": "code",
   "execution_count": null,
   "metadata": {},
   "outputs": [],
   "source": [
    "\"\"\" checkpoint가 없는 경우 \"\"\"\n",
    "\n",
    "from lib.env_manager_final import PathFindEnv\n",
    "from lib.dqn_utils_final import ReplayMemory, DQN\n",
    "\n",
    "env = PathFindEnv(height=24, width=24)\n",
    "dqn = DQN(train=True,\n",
    "          input_size=24,\n",
    "          batch_size=256,\n",
    "          gamma=0.99,\n",
    "          lr=1e-4,\n",
    "          eps_upper=1.0,\n",
    "          eps_lower=0.05,\n",
    "          eps_rate=10000,\n",
    "          buffer_size=50000,\n",
    "          update_freq=5000,\n",
    "          weight_decay=0.1,\n",
    "          max_norm=5.0)\n",
    "\n",
    "dqn.train(env, max_env_creation_cnt=30, max_ep_win_rate_in_env=90, recent=7000, jupyter=True, verbose=True)"
   ]
  },
  {
   "cell_type": "code",
   "execution_count": null,
   "metadata": {},
   "outputs": [],
   "source": [
    "\"\"\" checkpoint가 있는 경우 \"\"\"\n",
    "\n",
    "from lib.env_manager_final import PathFindEnv\n",
    "from lib.dqn_utils_final import ReplayMemory, DQN\n",
    "\n",
    "env = PathFindEnv(height=24, width=24)\n",
    "dqn = DQN(train=True,\n",
    "          input_size=24,\n",
    "          batch_size=256,\n",
    "          gamma=0.99,\n",
    "          lr=1e-4,\n",
    "          eps_upper=1.0,\n",
    "          eps_lower=0.05,\n",
    "          eps_rate=10000,\n",
    "          buffer_size=50000,\n",
    "          update_freq=5000,\n",
    "          weight_decay=0.1,\n",
    "          max_norm=5.0)\n",
    "\n",
    "dqn.train(env, checkpoint=\"checkpoint_name.pth\", max_env_creation_cnt=30, max_ep_win_rate_in_env=90, recent=7000, jupyter=True, verbose=True)"
   ]
  }
 ],
 "metadata": {
  "accelerator": "GPU",
  "colab": {
   "authorship_tag": "ABX9TyM+S1b0iMHT0uW6eQ6lGz39",
   "gpuType": "T4",
   "mount_file_id": "1olYyr74UOwDeBvK63DEFWDI11766JpOc",
   "provenance": []
  },
  "kernelspec": {
   "display_name": "Python 3 (ipykernel)",
   "language": "python",
   "name": "python3"
  },
  "language_info": {
   "codemirror_mode": {
    "name": "ipython",
    "version": 3
   },
   "file_extension": ".py",
   "mimetype": "text/x-python",
   "name": "python",
   "nbconvert_exporter": "python",
   "pygments_lexer": "ipython3",
   "version": "3.13.5"
  }
 },
 "nbformat": 4,
 "nbformat_minor": 4
}
